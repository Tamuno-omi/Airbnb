{
 "cells": [
  {
   "cell_type": "markdown",
   "metadata": {},
   "source": [
    "# Project: A Look at AirBnB Homes in Capetown\n",
    "\n",
    "## Table of Contents\n",
    "<ul>\n",
    "<li><a href=\"#intro\">Introduction</a></li>\n",
    "<li><a href=\"#understanding\">Data Understanding</a></li>\n",
    "<li><a href=\"#preparation\">Data Preparation</a></li>\n",
    "<li><a href=\"#exploration\">Data Exploration</a></li>    \n",
    "<li><a href=\"#conclusions\">Conclusions</a></li>\n",
    "</ul>"
   ]
  },
  {
   "cell_type": "markdown",
   "metadata": {},
   "source": [
    "<a id='intro'></a>\n",
    "## Introduction\n",
    ">Cape Town is the second most populous city in South Africa. The capital of Western Cape Province, it is also the legislative capital of the nation. Cape Town is on South Africa's southwestern coast close to the Cape of Good Hope, and is the southernmost city on the African continent.\n",
    ">\n",
    "> I will be taking a look at the airbnb dataset provided for the city provided on http://insideairbnb.com/, and see how I can gain  various insights.\n",
    ">\n",
    ">Here are some questions I hope to answer through the analysis of this  dataset\n",
    ">\n",
    ">1) What are the various room types listed on Airbnb in Capetown.\n",
    ">\n",
    ">2) What are the most popular property types in the city.\n",
    ">\n",
    ">3) What is the average price for the various room types.\n",
    ">\n",
    ">4) A look at availibility of Listings in a year.\n",
    ">\n",
    ">5) How many percent of listings are superhosts.\n",
    "\n",
    "\n",
    "\n"
   ]
  },
  {
   "cell_type": "markdown",
   "metadata": {},
   "source": [
    "<a id='understanding'></a>\n",
    "## Data Understanding"
   ]
  },
  {
   "cell_type": "code",
   "execution_count": 1,
   "metadata": {},
   "outputs": [],
   "source": [
    "# import statements\n",
    "import numpy as np\n",
    "import pandas as pd\n",
    "import seaborn as sns\n",
    "from IPython.core.interactiveshell import InteractiveShell\n",
    "InteractiveShell.ast_node_interactivity = \"all\"\n",
    "import matplotlib.pyplot as plt\n",
    "%matplotlib inline"
   ]
  },
  {
   "cell_type": "code",
   "execution_count": 2,
   "metadata": {},
   "outputs": [],
   "source": [
    "# Read in datasets\n",
    "neighbour_df = pd.read_csv('neighbourhoods.csv')\n",
    "reviews_df = pd.read_csv('reviewsnew.csv')\n",
    "listings_df = pd.read_csv('listingsnew.csv')"
   ]
  },
  {
   "cell_type": "code",
   "execution_count": 3,
   "metadata": {},
   "outputs": [
    {
     "data": {
      "text/html": [
       "<div>\n",
       "<style scoped>\n",
       "    .dataframe tbody tr th:only-of-type {\n",
       "        vertical-align: middle;\n",
       "    }\n",
       "\n",
       "    .dataframe tbody tr th {\n",
       "        vertical-align: top;\n",
       "    }\n",
       "\n",
       "    .dataframe thead th {\n",
       "        text-align: right;\n",
       "    }\n",
       "</style>\n",
       "<table border=\"1\" class=\"dataframe\">\n",
       "  <thead>\n",
       "    <tr style=\"text-align: right;\">\n",
       "      <th></th>\n",
       "      <th>neighbourhood_group</th>\n",
       "      <th>neighbourhood</th>\n",
       "    </tr>\n",
       "  </thead>\n",
       "  <tbody>\n",
       "    <tr>\n",
       "      <th>0</th>\n",
       "      <td>NaN</td>\n",
       "      <td>Ward 1</td>\n",
       "    </tr>\n",
       "    <tr>\n",
       "      <th>1</th>\n",
       "      <td>NaN</td>\n",
       "      <td>Ward 10</td>\n",
       "    </tr>\n",
       "    <tr>\n",
       "      <th>2</th>\n",
       "      <td>NaN</td>\n",
       "      <td>Ward 100</td>\n",
       "    </tr>\n",
       "    <tr>\n",
       "      <th>3</th>\n",
       "      <td>NaN</td>\n",
       "      <td>Ward 101</td>\n",
       "    </tr>\n",
       "    <tr>\n",
       "      <th>4</th>\n",
       "      <td>NaN</td>\n",
       "      <td>Ward 102</td>\n",
       "    </tr>\n",
       "  </tbody>\n",
       "</table>\n",
       "</div>"
      ],
      "text/plain": [
       "   neighbourhood_group neighbourhood\n",
       "0                  NaN        Ward 1\n",
       "1                  NaN       Ward 10\n",
       "2                  NaN      Ward 100\n",
       "3                  NaN      Ward 101\n",
       "4                  NaN      Ward 102"
      ]
     },
     "execution_count": 3,
     "metadata": {},
     "output_type": "execute_result"
    },
    {
     "data": {
      "text/html": [
       "<div>\n",
       "<style scoped>\n",
       "    .dataframe tbody tr th:only-of-type {\n",
       "        vertical-align: middle;\n",
       "    }\n",
       "\n",
       "    .dataframe tbody tr th {\n",
       "        vertical-align: top;\n",
       "    }\n",
       "\n",
       "    .dataframe thead th {\n",
       "        text-align: right;\n",
       "    }\n",
       "</style>\n",
       "<table border=\"1\" class=\"dataframe\">\n",
       "  <thead>\n",
       "    <tr style=\"text-align: right;\">\n",
       "      <th></th>\n",
       "      <th>listing_id</th>\n",
       "      <th>id</th>\n",
       "      <th>date</th>\n",
       "      <th>reviewer_id</th>\n",
       "      <th>reviewer_name</th>\n",
       "      <th>comments</th>\n",
       "    </tr>\n",
       "  </thead>\n",
       "  <tbody>\n",
       "    <tr>\n",
       "      <th>0</th>\n",
       "      <td>3191</td>\n",
       "      <td>4888238</td>\n",
       "      <td>2013-05-31</td>\n",
       "      <td>5737473</td>\n",
       "      <td>Kathleen</td>\n",
       "      <td>Great home away from home! Bridgette and Marth...</td>\n",
       "    </tr>\n",
       "    <tr>\n",
       "      <th>1</th>\n",
       "      <td>3191</td>\n",
       "      <td>9128602</td>\n",
       "      <td>2013-12-09</td>\n",
       "      <td>8170322</td>\n",
       "      <td>Anita</td>\n",
       "      <td>Das Cottage liegt ruhig und sicher.  Wir haben...</td>\n",
       "    </tr>\n",
       "    <tr>\n",
       "      <th>2</th>\n",
       "      <td>3191</td>\n",
       "      <td>9924130</td>\n",
       "      <td>2014-01-20</td>\n",
       "      <td>4039279</td>\n",
       "      <td>Zacki</td>\n",
       "      <td>This cottage was a great base from which to ex...</td>\n",
       "    </tr>\n",
       "    <tr>\n",
       "      <th>3</th>\n",
       "      <td>3191</td>\n",
       "      <td>16659537</td>\n",
       "      <td>2014-07-31</td>\n",
       "      <td>9729939</td>\n",
       "      <td>Doug</td>\n",
       "      <td>I had a great stay.  All my needs were well ex...</td>\n",
       "    </tr>\n",
       "    <tr>\n",
       "      <th>4</th>\n",
       "      <td>3191</td>\n",
       "      <td>23247470</td>\n",
       "      <td>2014-11-26</td>\n",
       "      <td>9681619</td>\n",
       "      <td>Christopher</td>\n",
       "      <td>Excellent host. She provided everything we cou...</td>\n",
       "    </tr>\n",
       "  </tbody>\n",
       "</table>\n",
       "</div>"
      ],
      "text/plain": [
       "   listing_id        id        date  reviewer_id reviewer_name  \\\n",
       "0        3191   4888238  2013-05-31      5737473      Kathleen   \n",
       "1        3191   9128602  2013-12-09      8170322         Anita   \n",
       "2        3191   9924130  2014-01-20      4039279         Zacki   \n",
       "3        3191  16659537  2014-07-31      9729939          Doug   \n",
       "4        3191  23247470  2014-11-26      9681619   Christopher   \n",
       "\n",
       "                                            comments  \n",
       "0  Great home away from home! Bridgette and Marth...  \n",
       "1  Das Cottage liegt ruhig und sicher.  Wir haben...  \n",
       "2  This cottage was a great base from which to ex...  \n",
       "3  I had a great stay.  All my needs were well ex...  \n",
       "4  Excellent host. She provided everything we cou...  "
      ]
     },
     "execution_count": 3,
     "metadata": {},
     "output_type": "execute_result"
    },
    {
     "data": {
      "text/html": [
       "<div>\n",
       "<style scoped>\n",
       "    .dataframe tbody tr th:only-of-type {\n",
       "        vertical-align: middle;\n",
       "    }\n",
       "\n",
       "    .dataframe tbody tr th {\n",
       "        vertical-align: top;\n",
       "    }\n",
       "\n",
       "    .dataframe thead th {\n",
       "        text-align: right;\n",
       "    }\n",
       "</style>\n",
       "<table border=\"1\" class=\"dataframe\">\n",
       "  <thead>\n",
       "    <tr style=\"text-align: right;\">\n",
       "      <th></th>\n",
       "      <th>id</th>\n",
       "      <th>listing_url</th>\n",
       "      <th>scrape_id</th>\n",
       "      <th>last_scraped</th>\n",
       "      <th>name</th>\n",
       "      <th>description</th>\n",
       "      <th>neighborhood_overview</th>\n",
       "      <th>picture_url</th>\n",
       "      <th>host_id</th>\n",
       "      <th>host_url</th>\n",
       "      <th>...</th>\n",
       "      <th>review_scores_communication</th>\n",
       "      <th>review_scores_location</th>\n",
       "      <th>review_scores_value</th>\n",
       "      <th>license</th>\n",
       "      <th>instant_bookable</th>\n",
       "      <th>calculated_host_listings_count</th>\n",
       "      <th>calculated_host_listings_count_entire_homes</th>\n",
       "      <th>calculated_host_listings_count_private_rooms</th>\n",
       "      <th>calculated_host_listings_count_shared_rooms</th>\n",
       "      <th>reviews_per_month</th>\n",
       "    </tr>\n",
       "  </thead>\n",
       "  <tbody>\n",
       "    <tr>\n",
       "      <th>0</th>\n",
       "      <td>3191</td>\n",
       "      <td>https://www.airbnb.com/rooms/3191</td>\n",
       "      <td>20201026144614</td>\n",
       "      <td>2020-10-26</td>\n",
       "      <td>Malleson Garden Cottage</td>\n",
       "      <td>This is a lovely, separate, self-catering cott...</td>\n",
       "      <td>Mowbray is on the Southern Suburbs line, 6km (...</td>\n",
       "      <td>https://a0.muscache.com/pictures/697022/385407...</td>\n",
       "      <td>3754</td>\n",
       "      <td>https://www.airbnb.com/users/show/3754</td>\n",
       "      <td>...</td>\n",
       "      <td>10.0</td>\n",
       "      <td>10.0</td>\n",
       "      <td>10.0</td>\n",
       "      <td>NaN</td>\n",
       "      <td>t</td>\n",
       "      <td>1</td>\n",
       "      <td>1</td>\n",
       "      <td>0</td>\n",
       "      <td>0</td>\n",
       "      <td>0.60</td>\n",
       "    </tr>\n",
       "    <tr>\n",
       "      <th>1</th>\n",
       "      <td>15007</td>\n",
       "      <td>https://www.airbnb.com/rooms/15007</td>\n",
       "      <td>20201026144614</td>\n",
       "      <td>2020-10-26</td>\n",
       "      <td>Blaauwberg House</td>\n",
       "      <td>Welcome to our self-catering beach-front famil...</td>\n",
       "      <td>Bloubergstrand is a lovely, cosy suburb near C...</td>\n",
       "      <td>https://a0.muscache.com/pictures/3b654aa4-248e...</td>\n",
       "      <td>59072</td>\n",
       "      <td>https://www.airbnb.com/users/show/59072</td>\n",
       "      <td>...</td>\n",
       "      <td>10.0</td>\n",
       "      <td>10.0</td>\n",
       "      <td>10.0</td>\n",
       "      <td>NaN</td>\n",
       "      <td>f</td>\n",
       "      <td>7</td>\n",
       "      <td>7</td>\n",
       "      <td>0</td>\n",
       "      <td>0</td>\n",
       "      <td>0.33</td>\n",
       "    </tr>\n",
       "    <tr>\n",
       "      <th>2</th>\n",
       "      <td>15077</td>\n",
       "      <td>https://www.airbnb.com/rooms/15077</td>\n",
       "      <td>20201026144614</td>\n",
       "      <td>2020-10-27</td>\n",
       "      <td>Top relaxed beach living in style</td>\n",
       "      <td>Situated either on the ground floor with direc...</td>\n",
       "      <td>It is probably the best hub in order to explor...</td>\n",
       "      <td>https://a0.muscache.com/pictures/4a8fceaa-655e...</td>\n",
       "      <td>59342</td>\n",
       "      <td>https://www.airbnb.com/users/show/59342</td>\n",
       "      <td>...</td>\n",
       "      <td>10.0</td>\n",
       "      <td>10.0</td>\n",
       "      <td>10.0</td>\n",
       "      <td>NaN</td>\n",
       "      <td>f</td>\n",
       "      <td>5</td>\n",
       "      <td>1</td>\n",
       "      <td>4</td>\n",
       "      <td>0</td>\n",
       "      <td>0.05</td>\n",
       "    </tr>\n",
       "    <tr>\n",
       "      <th>3</th>\n",
       "      <td>15180</td>\n",
       "      <td>https://www.airbnb.com/rooms/15180</td>\n",
       "      <td>20201026144614</td>\n",
       "      <td>2020-10-27</td>\n",
       "      <td>The Melkbaai - Beachfront</td>\n",
       "      <td>Comfortable and safe self catering flat for 2 ...</td>\n",
       "      <td>Apartment is located in Beach Road, Strand, We...</td>\n",
       "      <td>https://a0.muscache.com/pictures/e679464f-f75d...</td>\n",
       "      <td>59663</td>\n",
       "      <td>https://www.airbnb.com/users/show/59663</td>\n",
       "      <td>...</td>\n",
       "      <td>NaN</td>\n",
       "      <td>NaN</td>\n",
       "      <td>NaN</td>\n",
       "      <td>NaN</td>\n",
       "      <td>f</td>\n",
       "      <td>1</td>\n",
       "      <td>1</td>\n",
       "      <td>0</td>\n",
       "      <td>0</td>\n",
       "      <td>NaN</td>\n",
       "    </tr>\n",
       "    <tr>\n",
       "      <th>4</th>\n",
       "      <td>15199</td>\n",
       "      <td>https://www.airbnb.com/rooms/15199</td>\n",
       "      <td>20201026144614</td>\n",
       "      <td>2020-10-26</td>\n",
       "      <td>Self catering apartment</td>\n",
       "      <td>&lt;b&gt;The space&lt;/b&gt;&lt;br /&gt;Amenities :&lt;br /&gt;Welcome...</td>\n",
       "      <td>NaN</td>\n",
       "      <td>https://a0.muscache.com/pictures/142776/5b6c9e...</td>\n",
       "      <td>59694</td>\n",
       "      <td>https://www.airbnb.com/users/show/59694</td>\n",
       "      <td>...</td>\n",
       "      <td>10.0</td>\n",
       "      <td>10.0</td>\n",
       "      <td>8.0</td>\n",
       "      <td>NaN</td>\n",
       "      <td>f</td>\n",
       "      <td>1</td>\n",
       "      <td>1</td>\n",
       "      <td>0</td>\n",
       "      <td>0</td>\n",
       "      <td>0.02</td>\n",
       "    </tr>\n",
       "  </tbody>\n",
       "</table>\n",
       "<p>5 rows × 74 columns</p>\n",
       "</div>"
      ],
      "text/plain": [
       "      id                         listing_url       scrape_id last_scraped  \\\n",
       "0   3191   https://www.airbnb.com/rooms/3191  20201026144614   2020-10-26   \n",
       "1  15007  https://www.airbnb.com/rooms/15007  20201026144614   2020-10-26   \n",
       "2  15077  https://www.airbnb.com/rooms/15077  20201026144614   2020-10-27   \n",
       "3  15180  https://www.airbnb.com/rooms/15180  20201026144614   2020-10-27   \n",
       "4  15199  https://www.airbnb.com/rooms/15199  20201026144614   2020-10-26   \n",
       "\n",
       "                                name  \\\n",
       "0            Malleson Garden Cottage   \n",
       "1                   Blaauwberg House   \n",
       "2  Top relaxed beach living in style   \n",
       "3          The Melkbaai - Beachfront   \n",
       "4            Self catering apartment   \n",
       "\n",
       "                                         description  \\\n",
       "0  This is a lovely, separate, self-catering cott...   \n",
       "1  Welcome to our self-catering beach-front famil...   \n",
       "2  Situated either on the ground floor with direc...   \n",
       "3  Comfortable and safe self catering flat for 2 ...   \n",
       "4  <b>The space</b><br />Amenities :<br />Welcome...   \n",
       "\n",
       "                               neighborhood_overview  \\\n",
       "0  Mowbray is on the Southern Suburbs line, 6km (...   \n",
       "1  Bloubergstrand is a lovely, cosy suburb near C...   \n",
       "2  It is probably the best hub in order to explor...   \n",
       "3  Apartment is located in Beach Road, Strand, We...   \n",
       "4                                                NaN   \n",
       "\n",
       "                                         picture_url  host_id  \\\n",
       "0  https://a0.muscache.com/pictures/697022/385407...     3754   \n",
       "1  https://a0.muscache.com/pictures/3b654aa4-248e...    59072   \n",
       "2  https://a0.muscache.com/pictures/4a8fceaa-655e...    59342   \n",
       "3  https://a0.muscache.com/pictures/e679464f-f75d...    59663   \n",
       "4  https://a0.muscache.com/pictures/142776/5b6c9e...    59694   \n",
       "\n",
       "                                  host_url  ... review_scores_communication  \\\n",
       "0   https://www.airbnb.com/users/show/3754  ...                        10.0   \n",
       "1  https://www.airbnb.com/users/show/59072  ...                        10.0   \n",
       "2  https://www.airbnb.com/users/show/59342  ...                        10.0   \n",
       "3  https://www.airbnb.com/users/show/59663  ...                         NaN   \n",
       "4  https://www.airbnb.com/users/show/59694  ...                        10.0   \n",
       "\n",
       "  review_scores_location review_scores_value license instant_bookable  \\\n",
       "0                   10.0                10.0     NaN                t   \n",
       "1                   10.0                10.0     NaN                f   \n",
       "2                   10.0                10.0     NaN                f   \n",
       "3                    NaN                 NaN     NaN                f   \n",
       "4                   10.0                 8.0     NaN                f   \n",
       "\n",
       "  calculated_host_listings_count calculated_host_listings_count_entire_homes  \\\n",
       "0                              1                                           1   \n",
       "1                              7                                           7   \n",
       "2                              5                                           1   \n",
       "3                              1                                           1   \n",
       "4                              1                                           1   \n",
       "\n",
       "  calculated_host_listings_count_private_rooms  \\\n",
       "0                                            0   \n",
       "1                                            0   \n",
       "2                                            4   \n",
       "3                                            0   \n",
       "4                                            0   \n",
       "\n",
       "  calculated_host_listings_count_shared_rooms reviews_per_month  \n",
       "0                                           0              0.60  \n",
       "1                                           0              0.33  \n",
       "2                                           0              0.05  \n",
       "3                                           0               NaN  \n",
       "4                                           0              0.02  \n",
       "\n",
       "[5 rows x 74 columns]"
      ]
     },
     "execution_count": 3,
     "metadata": {},
     "output_type": "execute_result"
    }
   ],
   "source": [
    "# View datasets\n",
    "neighbour_df.head()\n",
    "reviews_df.head()\n",
    "listings_df.head()"
   ]
  },
  {
   "cell_type": "code",
   "execution_count": 4,
   "metadata": {},
   "outputs": [
    {
     "data": {
      "text/plain": [
       "neighbourhood_group    float64\n",
       "neighbourhood           object\n",
       "dtype: object"
      ]
     },
     "execution_count": 4,
     "metadata": {},
     "output_type": "execute_result"
    },
    {
     "data": {
      "text/plain": [
       "listing_id        int64\n",
       "id                int64\n",
       "date             object\n",
       "reviewer_id       int64\n",
       "reviewer_name    object\n",
       "comments         object\n",
       "dtype: object"
      ]
     },
     "execution_count": 4,
     "metadata": {},
     "output_type": "execute_result"
    },
    {
     "data": {
      "text/plain": [
       "id                                                int64\n",
       "listing_url                                      object\n",
       "scrape_id                                         int64\n",
       "last_scraped                                     object\n",
       "name                                             object\n",
       "                                                 ...   \n",
       "calculated_host_listings_count                    int64\n",
       "calculated_host_listings_count_entire_homes       int64\n",
       "calculated_host_listings_count_private_rooms      int64\n",
       "calculated_host_listings_count_shared_rooms       int64\n",
       "reviews_per_month                               float64\n",
       "Length: 74, dtype: object"
      ]
     },
     "execution_count": 4,
     "metadata": {},
     "output_type": "execute_result"
    }
   ],
   "source": [
    "# View datatypes in datasets\n",
    "neighbour_df.dtypes\n",
    "reviews_df.dtypes\n",
    "listings_df.dtypes"
   ]
  },
  {
   "cell_type": "code",
   "execution_count": 5,
   "metadata": {},
   "outputs": [
    {
     "data": {
      "text/plain": [
       "['id',\n",
       " 'listing_url',\n",
       " 'scrape_id',\n",
       " 'last_scraped',\n",
       " 'name',\n",
       " 'description',\n",
       " 'neighborhood_overview',\n",
       " 'picture_url',\n",
       " 'host_id',\n",
       " 'host_url',\n",
       " 'host_name',\n",
       " 'host_since',\n",
       " 'host_location',\n",
       " 'host_about',\n",
       " 'host_response_time',\n",
       " 'host_response_rate',\n",
       " 'host_acceptance_rate',\n",
       " 'host_is_superhost',\n",
       " 'host_thumbnail_url',\n",
       " 'host_picture_url',\n",
       " 'host_neighbourhood',\n",
       " 'host_listings_count',\n",
       " 'host_total_listings_count',\n",
       " 'host_verifications',\n",
       " 'host_has_profile_pic',\n",
       " 'host_identity_verified',\n",
       " 'neighbourhood',\n",
       " 'neighbourhood_cleansed',\n",
       " 'neighbourhood_group_cleansed',\n",
       " 'latitude',\n",
       " 'longitude',\n",
       " 'property_type',\n",
       " 'room_type',\n",
       " 'accommodates',\n",
       " 'bathrooms',\n",
       " 'bathrooms_text',\n",
       " 'bedrooms',\n",
       " 'beds',\n",
       " 'amenities',\n",
       " 'price',\n",
       " 'minimum_nights',\n",
       " 'maximum_nights',\n",
       " 'minimum_minimum_nights',\n",
       " 'maximum_minimum_nights',\n",
       " 'minimum_maximum_nights',\n",
       " 'maximum_maximum_nights',\n",
       " 'minimum_nights_avg_ntm',\n",
       " 'maximum_nights_avg_ntm',\n",
       " 'calendar_updated',\n",
       " 'has_availability',\n",
       " 'availability_30',\n",
       " 'availability_60',\n",
       " 'availability_90',\n",
       " 'availability_365',\n",
       " 'calendar_last_scraped',\n",
       " 'number_of_reviews',\n",
       " 'number_of_reviews_ltm',\n",
       " 'number_of_reviews_l30d',\n",
       " 'first_review',\n",
       " 'last_review',\n",
       " 'review_scores_rating',\n",
       " 'review_scores_accuracy',\n",
       " 'review_scores_cleanliness',\n",
       " 'review_scores_checkin',\n",
       " 'review_scores_communication',\n",
       " 'review_scores_location',\n",
       " 'review_scores_value',\n",
       " 'license',\n",
       " 'instant_bookable',\n",
       " 'calculated_host_listings_count',\n",
       " 'calculated_host_listings_count_entire_homes',\n",
       " 'calculated_host_listings_count_private_rooms',\n",
       " 'calculated_host_listings_count_shared_rooms',\n",
       " 'reviews_per_month']"
      ]
     },
     "execution_count": 5,
     "metadata": {},
     "output_type": "execute_result"
    }
   ],
   "source": [
    "# Column names in listings_df\n",
    "list(listings_df.columns.values)"
   ]
  },
  {
   "cell_type": "code",
   "execution_count": 6,
   "metadata": {},
   "outputs": [
    {
     "name": "stdout",
     "output_type": "stream",
     "text": [
      "Unique values in column: neighbourhood\n",
      "['Southern Suburbs, Western Cape, South Africa'\n",
      " 'Cape Town, Western Cape, South Africa' nan\n",
      " 'Bellville, Western Cape, South Africa'\n",
      " 'Durbanville, Western Cape, South Africa'\n",
      " 'Fish Hoek, Western Cape, South Africa'\n",
      " 'Blouberg, Western Cape, South Africa'\n",
      " 'Green Point, , Cape Town, South Africa'\n",
      " 'Hout Bay, Western Cape, South Africa'\n",
      " 'Cape Town, Western Province, South Africa' 'Cape Town, South Africa'\n",
      " 'Panorama, South Africa' 'Green Point, Western Cape, South Africa'\n",
      " 'Noordhoek, Cape Town, Western Cape, South Africa'\n",
      " 'Cape Town, WC, South Africa' 'Bakoven, South Africa, South Africa'\n",
      " 'Milnerton, Western Cape, South Africa'\n",
      " \"Simon's Town, Western Cape, South Africa\"\n",
      " 'Sea Point, Western Cape, South Africa' 'Cape Town, 8001, South Africa'\n",
      " 'Bloubergstrand, Western Cape, South Africa'\n",
      " 'Bantry Bay Cape Town, Western Cape, South Africa'\n",
      " 'Green Point, Cape Town, Western Cape, South Africa'\n",
      " 'Khayelitsha , WC, South Africa' 'Scarborough , Wc, South Africa'\n",
      " 'Rosebank, Cape Town, Western Cape, South Africa'\n",
      " 'Marina Da Gama, Western Cape, South Africa'\n",
      " 'Kommetjie, Cape Town, Western Cape, South Africa'\n",
      " 'Gordons bay, Western Cape, South Africa'\n",
      " 'Cape Town, Green Point, Western Cape, South Africa'\n",
      " 'Simonstown Cape Town, Western Cape, South Africa'\n",
      " 'Milnerton, Cape Town, Western Cape, South Africa'\n",
      " 'Camps Bay, Cape town, South Africa'\n",
      " 'Camps Bay, Western Cape, South Africa'\n",
      " 'Camps bay, Cape Town, South Africa'\n",
      " 'Kaapstad, Western Cape, South Africa'\n",
      " 'Tamboerskloof, Cape Town, Western Cape, South Africa'\n",
      " 'Cape Town , Western Cape, South Africa'\n",
      " 'St James, Cape Town, Western Cape, South Africa'\n",
      " 'Cape Town, Bantry Bay, Western Cape, South Africa'\n",
      " 'cape town 7806, Western Cape, South Africa'\n",
      " 'Somerset West, Western Cape, South Africa' 'South Africa'\n",
      " 'Kapstadt, Kalk Bay, Westkap, South Africa'\n",
      " 'Hout bay, Western Cape, South Africa' 'Camps Bay, Westkap, South Africa'\n",
      " 'Cape Town, western cape, South Africa'\n",
      " 'Melkbosstrand, Cape Town, Western Cape, South Africa'\n",
      " \"Cape Town - Sir Lowry's Pass, Western Cape, South Africa\"\n",
      " 'De Waterkant, Western Cape, South Africa'\n",
      " 'Scarborough, Western Cape, South Africa'\n",
      " 'Somerset West , Western Cape, South Africa'\n",
      " 'Kommetjie, Western Cape, South Africa'\n",
      " 'Cape Town, Western cape, South Africa'\n",
      " 'Muizenberg ,Cape Town, Western Cape, South Africa'\n",
      " 'CapeTown , Western Cape, South Africa'\n",
      " 'Sea Point, Cape Town, Western Cape, South Africa'\n",
      " 'Cape Town, Hout Bay, South Africa' 'Strand, Western Cape, South Africa'\n",
      " 'Cape Town fish hoek, Western Cape, South Africa'\n",
      " 'Hout Bay 7806 Cape Town, Western Cape, South Africa'\n",
      " 'Sunset Beach, Western Cape, South Africa'\n",
      " 'Claremont, Western Cape, South Africa'\n",
      " 'Cape Town Camps Bay, Western Cape, South Africa'\n",
      " 'Cape Town Southern Suburbs, Western Cape, South Africa'\n",
      " 'Cape Town / De Waterkant, Western Cape, South Africa'\n",
      " 'Cape Town , Gardens, South Africa' 'Clifton, Western Cape, South Africa'\n",
      " 'Muizenberg, Cape Town, Western Cape, South Africa'\n",
      " 'Gordons Bay, Western Cape, South Africa'\n",
      " 'Hout Bay Cape Town, Western Cape, South Africa'\n",
      " 'Bellville, WC, South Africa'\n",
      " 'Strand/Kapstaden/Västra Kapprovinsen, Western Cape, South Africa'\n",
      " 'Noordhoek, Cape Town, South Africa'\n",
      " '\\nCape Town, Western Cape, South Africa'\n",
      " 'Table view, Western Cape, South Africa'\n",
      " 'Cape Town, Camps Bay, Western Cape, South Africa'\n",
      " 'Woodstock, Cape Town, Western Cape, South Africa'\n",
      " 'Bloubergstrand, Cape Town, Western Cape, South Africa'\n",
      " 'Fish Hoek, Cape Town, South Africa'\n",
      " 'Fish Hoek, Cape Town, Western Cape, South Africa'\n",
      " 'Fish Hoek Cape Town, Western Cape, South Africa'\n",
      " 'Sea Point Cape Town, Western Cape, South Africa'\n",
      " 'Constantia Cape Town, Western Cape, South Africa'\n",
      " 'Camps Bay, Cape Town, South Africa'\n",
      " \"Gordon's bay , Western Cape, South Africa\"\n",
      " 'Newlands, Cape Town, Western Cape, South Africa'\n",
      " 'Sunnydale, Cape Town, Western Cape, South Africa'\n",
      " 'Strand, Cape Town, Western Cape, South Africa'\n",
      " 'Kommetjie, WC, South Africa' 'Oranjezicht, Cape Town, South Africa'\n",
      " 'Hout Bay, Cape Town, Western Cape, South Africa'\n",
      " 'Fresnaye, Western Cape, South Africa'\n",
      " 'Misty Cliffs, Cape Town, WC, South Africa'\n",
      " 'Woodstock, Western Cape, South Africa' \"Simon's Town, WC, South Africa\"\n",
      " 'Durbanville, Cape Town, Western Cape, South Africa'\n",
      " 'De Waterkant, Cape Town, Western Cape, South Africa'\n",
      " 'cape town, Western Cape, South Africa'\n",
      " 'Muizenberg, Cape Town, South Africa'\n",
      " 'Kenilworth, Cape Town, Western Cape, South Africa'\n",
      " 'Cape Town, Bellville , Western Cape, South Africa'\n",
      " 'Cape Town, Somerset West, Western Cape, South Africa'\n",
      " 'Camps bay, Western Cape, South Africa'\n",
      " 'Southern Suburbs, WC, South Africa' 'Clifton , WC, South Africa'\n",
      " 'Somerest West, Western Cape, South Africa'\n",
      " 'Cape Town, St.James/Kalk Bay, Western Cape, South Africa'\n",
      " 'Stellenbosch, WC, South Africa'\n",
      " 'Cape Town, Simonstown, Western Cape, South Africa'\n",
      " 'Rondebosch, Cape town, Western Cape, South Africa'\n",
      " 'Three Anchor Bay , WC, South Africa'\n",
      " 'Milnerton, Cape Town Western Cape, South Africa'\n",
      " 'West Beach, Bloubergstrand, Cape Town - Western Cape, South Africa'\n",
      " \"Gordons' Bay Cape Town, Western Cape, South Africa\" 'WC, South Africa'\n",
      " 'Bloubergstrand , Western Cape, South Africa'\n",
      " 'Kalk Bay, Western Cape, South Africa'\n",
      " 'Green Point, Cape Town, South Africa'\n",
      " 'Cape Town, WC Hout Bay, South Africa'\n",
      " 'Cape Town, Noordhoek, South Africa' 'Western Cape, South Africa'\n",
      " 'Constantia, Western Cape, South Africa'\n",
      " 'Western Cape Town, South Africa'\n",
      " 'Sunset beach, Cape Town, Western Cape, South Africa'\n",
      " 'Kaapstad, Wes-Kaap, South Africa'\n",
      " 'Somerset West,, Western Cape, South Africa'\n",
      " \"Simon's Town in Cape Town, South Africa\"\n",
      " 'CAPE TOWN, WESTERN CAPE, South Africa' 'Kraaifontein, WC, South Africa'\n",
      " 'Tamboerskloof; Cape Town, Western Cape, South Africa'\n",
      " 'Somerset West, South Africa, South Africa' 'St. James, WC, South Africa'\n",
      " 'Simonstown, Cape Town, South Africa' 'Gardens, Cape Town, South Africa'\n",
      " 'Bantry Bay, Cape Town, South Africa'\n",
      " \"Simon's Town, Cape Town, South Africa\"\n",
      " 'Cape Town, Wes-Kaap, South Africa'\n",
      " 'KALK BAY, Western Cape, South Africa'\n",
      " 'Rondebosch, Western Cape, South Africa' 'Simons Town, South Africa'\n",
      " 'Clifton 4th, Western Cape, South Africa'\n",
      " 'Cape Town , Western Province, South Africa'\n",
      " 'Cape Town , Western cape, South Africa' 'Somerset West, South Africa'\n",
      " 'Cape town, Western Cape, South Africa'\n",
      " 'Tokai, Cape Town, Western Cape, South Africa'\n",
      " \"Gordon's Bay, South Africa\" 'Blouberg, WC, South Africa'\n",
      " 'Green Point - Cape Town, Western Cape, South Africa'\n",
      " 'muizenberg, Cape Town, Western Cape, ZA, Western Cape, South Africa'\n",
      " 'Blouberg , Western Cape, South Africa'\n",
      " 'Bantry Bay, Cape Town, Western Cape, South Africa'\n",
      " 'Cape Town, Hout Bay, Western Cape, South Africa'\n",
      " 'Cape Town, Western Cape, ZA, Western Cape, South Africa'\n",
      " 'Lagoon Beach, Milnerton, Cape Town, South Africa'\n",
      " 'Somerset West, Western Cape, South Africa, South Africa'\n",
      " 'Kalk Bay, Cape Town, Western Cape, South Africa'\n",
      " 'Cape Town, Blouberg, South Africa' 'Somerset West, WC, South Africa'\n",
      " 'Melkbosstrand, Western Cape, South Africa'\n",
      " 'Muizenberg, Western Cape, South Africa'\n",
      " 'Cape Town, Parklands, South Africa'\n",
      " 'Somerset-West, Western Cape, South Africa'\n",
      " 'Camps Bay , Western Cape, South Africa'\n",
      " 'boston belville, western cape, South Africa'\n",
      " 'Strand, Cape Town, South Africa' 'Hout Bay , Western cape, South Africa'\n",
      " \"Gordon's Bay, Western Cape, South Africa\"\n",
      " '@ Cape Town, Western Cape, ZA, Western Cape, South Africa'\n",
      " 'Blouberg , WC, South Africa' 'Cape Town, South Africa, South Africa'\n",
      " 'Vredehoek, WC, South Africa' 'scarborough, Western Cape, South Africa'\n",
      " 'Camps Bay, Cape Town, Western Cape, South Africa'\n",
      " 'Sea Point, WC, South Africa' 'Higgovale, Western Cape, South Africa'\n",
      " 'Clifton 3rd, Western Cape, South Africa' 'Kalk Bay, WC, South Africa'\n",
      " 'Tokai, Western Cape, South Africa' 'Noordhoek, South Africa'\n",
      " 'Gordens Bay, Western Cape, South Africa' 'Cape Town , WC, South Africa'\n",
      " 'Camps Bay, WC, South Africa'\n",
      " 'Bantry Bay, Cape Town, Cape Town, South Africa'\n",
      " 'Sunningdale, Cape Town, Western Cape, South Africa'\n",
      " \"Sir Lowry's Pass, Western Cape, South Africa\"\n",
      " ' Cape Town City Centre, Cape Town, South Africa'\n",
      " 'Table View, WC, South Africa' 'Muizenberg, WC, South Africa'\n",
      " 'Voorbrug, WC, South Africa' 'Cape Town, Cape Province, South Africa'\n",
      " 'Strand, WC, South Africa' 'Scarborough , WC, South Africa'\n",
      " 'Kuils River, Cape Town, South Africa'\n",
      " 'Tamboerskloof, Cape Town, South Africa'\n",
      " 'Burgundy Estate, Cape Town, WC, South Africa'\n",
      " 'Gordons Bay, WC, South Africa' 'Fresnaye, Cape Town, WC, South Africa'\n",
      " 'Gordons Bay , Western Cape, South Africa' 'Cape Town , South Africa'\n",
      " 'Cape Town, Green Point, South Africa' 'Hout Bay, South Africa'\n",
      " 'Muizenberg, South Africa' 'Sir Lowrys Pass, South Africa'\n",
      " 'Stellenbosch, Western Cape, South Africa'\n",
      " 'Cape Town, Tarifa, South Africa'\n",
      " 'Philadelphia, Western Cape, South Africa'\n",
      " 'Green Point Cape Town, Western Cape, South Africa'\n",
      " '., Cape Town, South Africa' ' Gordons Bay, Western Cape, South Africa'\n",
      " 'Table View, Western Cape, South Africa' 'Big Bay, WC, South Africa'\n",
      " 'Tyger Waterfalls, Bellville, South Africa'\n",
      " 'Capetown , Western Cape, South Africa'\n",
      " 'Cape Town, Western Peovince, South Africa'\n",
      " 'Cape Town, Hout Bay, Western Cape, ZA, Western Cape, South Africa'\n",
      " 'Bloubergstrand, South Africa' 'Noordhoek, Western Cape, South Africa'\n",
      " 'Constantia Nek, South Africa'\n",
      " 'Strand Cape Town, Western Cape, South Africa'\n",
      " 'Cape Town, .Western Cape, South Africa'\n",
      " 'Cape Town, Bloubergstrand, Western Cape, South Africa'\n",
      " 'Cape-Town, Western Cape, South Africa'\n",
      " 'Capri, Western Cape, South Africa'\n",
      " \" Simon's Town , Western Cape, South Africa\"\n",
      " 'Gardens, Western Cape, South Africa'\n",
      " \"Simon's Town , Western Cape, South Africa\"\n",
      " 'Sea Point, Cape Town, South Africa'\n",
      " 'Tygerberg Hills, Western Cape, South Africa'\n",
      " \"Sir Lowry's Pass, South Africa\"\n",
      " 'Simon’s Town, Western Cape, South Africa'\n",
      " 'Sunset Beach, Cape Town, Western Cape, South Africa'\n",
      " 'Melkbosstrand, WC, South Africa' 'Gordons Bay, South Africa'\n",
      " 'Cape Town City Centre, Cape Town, South Africa'\n",
      " 'Century City (Canal Walk) , Western Cape, South Africa'\n",
      " 'Sir Lowrys Pass, Western Cape, South Africa'\n",
      " \"Imhoff's Gift, Western Cape, South Africa\"\n",
      " 'Century City , Western Cape, South Africa' 'Big Bay, South Africa'\n",
      " 'Pine Haven, Western Cape, South Africa' 'Simon’s Town, WC, South Africa'\n",
      " 'Somerset West , South Africa' 'South Africa, Cape Town, South Africa'\n",
      " 'Cape Town City Centre, Western Cape, South Africa'\n",
      " 'Rugby, Cape Town, South Africa' 'Helderberg Rural, South Africa'\n",
      " 'Cape Town, Gordons Bay, South Africa'\n",
      " 'Houtbay , Western Province, South Africa'\n",
      " 'Kommetjie , Western Cape, South Africa'\n",
      " 'Cape Town , Rondebosch, South Africa'\n",
      " 'Woodstock, Cape Town, South Africa'\n",
      " 'Bo Kaap, Western Cape, South Africa' 'Fish Hoek, WC, South Africa'\n",
      " 'Green Point, Western Cape, Cape Town, South Africa'\n",
      " 'Hout Bay, WC, South Africa' 'Cape Town CBD, Western Cape, South Africa'\n",
      " 'Somerset West, Cape Town, Western Cape, South Africa'\n",
      " 'Simonstown, WC, South Africa' 'Strand , WC, South Africa'\n",
      " 'Greenpoint, Cape Town, WC, South Africa'\n",
      " 'Scarborough, Cape Town, South Africa'\n",
      " 'Strand, South africa, South Africa' 'Claremont, Cape Town, South Africa'\n",
      " 'Cape town, Western province, South Africa'\n",
      " 'Somerset West, Südafrika, South Africa'\n",
      " 'Blouberg Cape Town, WC, South Africa' 'Gordon’s Bay, WC, South Africa'\n",
      " 'Blouberg Strand, Western Cape, South Africa'\n",
      " 'Tamboerskloof, Western Cape, Cape Town, South Africa'\n",
      " 'Hout Bay, Cape Town, South Africa'\n",
      " 'Pinelands, Western Cape, South Africa'\n",
      " 'Milnerton, Cape Town, South Africa'\n",
      " 'Devil’s Peak Estste, Western Cape, South Africa'\n",
      " 'Somerset West Cape Town, Western Cape, South Africa'\n",
      " 'Cape Town, CBD, South Africa' 'Cape Town, Camps Bay, South Africa'\n",
      " 'Crawford, Western Cape, South Africa'\n",
      " 'Ballito Zimbali , KwaZulu-Natal, South Africa'\n",
      " ' Table View, Western Cape, South Africa'\n",
      " 'City Centre / Bo Kaap, Western Cape, South Africa'\n",
      " 'Cape town, South africa, South Africa'\n",
      " 'Century City, Western Cape, South Africa' 'Constantia, WC, South Africa'\n",
      " ' Fish Hoek, Cape Town, Western Cape, South Africa'\n",
      " 'Simonstown, Western Cape, South Africa' 'Durbanville, South Africa'\n",
      " 'Durbanville, WC, South Africa' 'cape town,, western cape, South Africa'\n",
      " 'Somerset West, Cape Town, South Africa'\n",
      " 'Cape Town, Goodwood, South Africa' 'Brackenfell, WC, South Africa'\n",
      " 'Milnerton, WC, South Africa' 'Kuilsriver , Western Cape, South Africa'\n",
      " 'Cape Point, WC, South Africa'\n",
      " 'Melkbosstrand , Western Cape, South Africa' 'Kaapstad, WC, South Africa'\n",
      " 'Fish hoek, Western Cape, South Africa'\n",
      " 'Scarborough , Western Cape, South Africa'\n",
      " 'Cape Town , South Africa, South Africa'\n",
      " 'Parow, Western Cape, South Africa' 'Greenpoint, Cape Town, South Africa'\n",
      " 'Bantry Bay, South Africa' 'Heldervue, Western Cape, South Africa'\n",
      " 'Green Point, South Africa' 'Parow-North, Western Cape, South Africa'\n",
      " 'Belville, Western Cape, South Africa' 'Scarborough, South Africa'\n",
      " 'Edgemead, Cape Town, South Africa'\n",
      " 'Cape Town, South Africa / Cape Town / Western Cape, South Africa']\n"
     ]
    },
    {
     "data": {
      "text/plain": [
       "(None, '\\n')"
      ]
     },
     "execution_count": 6,
     "metadata": {},
     "output_type": "execute_result"
    },
    {
     "name": "stdout",
     "output_type": "stream",
     "text": [
      "Unique values in column: room_type\n",
      "['Entire home/apt' 'Private room' 'Shared room' 'Hotel room']\n"
     ]
    },
    {
     "data": {
      "text/plain": [
       "(None, '\\n')"
      ]
     },
     "execution_count": 6,
     "metadata": {},
     "output_type": "execute_result"
    },
    {
     "name": "stdout",
     "output_type": "stream",
     "text": [
      "Unique values in column: property_type\n",
      "['Entire guesthouse' 'Entire house' 'Private room in apartment'\n",
      " 'Entire apartment' 'Private room' 'Entire guest suite' 'Entire villa'\n",
      " 'Private room in house' 'Shared room in apartment'\n",
      " 'Private room in guesthouse' 'Room in serviced apartment' 'Entire loft'\n",
      " 'Private room in guest suite' 'Private room in bed and breakfast'\n",
      " 'Private room in villa' 'Entire bungalow' 'Room in bed and breakfast'\n",
      " 'Entire cottage' 'Entire condominium' 'Entire serviced apartment'\n",
      " 'Private room in serviced apartment' 'Room in hotel'\n",
      " 'Private room in condominium' 'Entire townhouse' 'Private room in hostel'\n",
      " 'Private room in townhouse' 'Room in boutique hotel' 'Entire cabin'\n",
      " 'Private room in loft' 'Entire chalet' 'Room in aparthotel'\n",
      " 'Entire place' 'Tiny house' 'Private room in cottage' 'Island'\n",
      " 'Shared room in hostel' 'Shared room in bed and breakfast'\n",
      " 'Entire bed and breakfast' 'Shared room in loft'\n",
      " 'Private room in bungalow' 'Shared room in house'\n",
      " 'Private room in tiny house' 'Farm stay' 'Private room in lighthouse'\n",
      " 'Private room in cabin' 'Earth house' 'Entire home/apt'\n",
      " 'Room in guesthouse' 'Private room in farm stay' 'Entire hostel'\n",
      " 'Shared room' 'Entire floor' 'Shared room in townhouse' 'Entire resort'\n",
      " 'Shared room in guest suite' 'Private room in nature lodge'\n",
      " 'Private room in hut' 'Boat' 'Private room in boat' 'Bus'\n",
      " 'Private room in earth house' 'Room in hostel'\n",
      " 'Shared room in guesthouse' 'Entire vacation home'\n",
      " 'Private room in chalet' 'Castle' 'Camper/RV' 'Room in nature lodge'\n",
      " 'Private room in dorm' 'Room in apartment' 'Private room in camper/rv'\n",
      " 'Room in heritage hotel' 'Shared room in boutique hotel'\n",
      " 'Private room in resort' 'Shared room in earth house'\n",
      " 'Private room in tipi' 'Private room in barn' 'Yurt'\n",
      " 'Shared room in villa' 'Barn' 'Private room in dome house'\n",
      " 'Shared room in dome house' 'Shared room in serviced apartment'\n",
      " 'Casa particular' 'Tent']\n"
     ]
    },
    {
     "data": {
      "text/plain": [
       "(None, '\\n')"
      ]
     },
     "execution_count": 6,
     "metadata": {},
     "output_type": "execute_result"
    },
    {
     "name": "stdout",
     "output_type": "stream",
     "text": [
      "Unique values in column: license\n",
      "[nan]\n"
     ]
    },
    {
     "data": {
      "text/plain": [
       "(None, '\\n')"
      ]
     },
     "execution_count": 6,
     "metadata": {},
     "output_type": "execute_result"
    }
   ],
   "source": [
    "# Printing unique values for string columns\n",
    "\n",
    "for col in listings_df[['neighbourhood', 'room_type','property_type','license']]:\n",
    "    print('Unique values in column: %s' %col)\n",
    "    print(listings_df[col].unique()), '\\n'"
   ]
  },
  {
   "cell_type": "code",
   "execution_count": 7,
   "metadata": {},
   "outputs": [
    {
     "data": {
      "text/plain": [
       "(116, 2)"
      ]
     },
     "execution_count": 7,
     "metadata": {},
     "output_type": "execute_result"
    },
    {
     "data": {
      "text/plain": [
       "(288322, 6)"
      ]
     },
     "execution_count": 7,
     "metadata": {},
     "output_type": "execute_result"
    },
    {
     "data": {
      "text/plain": [
       "(18723, 74)"
      ]
     },
     "execution_count": 7,
     "metadata": {},
     "output_type": "execute_result"
    }
   ],
   "source": [
    "# Size of datasets\n",
    "neighbour_df.shape\n",
    "reviews_df.shape\n",
    "listings_df.shape"
   ]
  },
  {
   "cell_type": "code",
   "execution_count": 8,
   "metadata": {},
   "outputs": [
    {
     "data": {
      "text/plain": [
       "neighbourhood_group    100.0\n",
       "neighbourhood            0.0\n",
       "dtype: float64"
      ]
     },
     "execution_count": 8,
     "metadata": {},
     "output_type": "execute_result"
    },
    {
     "data": {
      "text/plain": [
       "listing_id       0.000000\n",
       "id               0.000000\n",
       "date             0.000000\n",
       "reviewer_id      0.000000\n",
       "reviewer_name    0.000000\n",
       "comments         0.046476\n",
       "dtype: float64"
      ]
     },
     "execution_count": 8,
     "metadata": {},
     "output_type": "execute_result"
    },
    {
     "data": {
      "text/plain": [
       "id                                               0.000000\n",
       "listing_url                                      0.000000\n",
       "scrape_id                                        0.000000\n",
       "last_scraped                                     0.000000\n",
       "name                                             0.000000\n",
       "                                                  ...    \n",
       "calculated_host_listings_count                   0.000000\n",
       "calculated_host_listings_count_entire_homes      0.000000\n",
       "calculated_host_listings_count_private_rooms     0.000000\n",
       "calculated_host_listings_count_shared_rooms      0.000000\n",
       "reviews_per_month                               29.290178\n",
       "Length: 74, dtype: float64"
      ]
     },
     "execution_count": 8,
     "metadata": {},
     "output_type": "execute_result"
    }
   ],
   "source": [
    "# Percentage of null values in each column of the datasets\n",
    "neighbour_df.isnull().sum()*100/len(neighbour_df)\n",
    "reviews_df.isnull().sum()*100/len(reviews_df)\n",
    "listings_df.isnull().sum()*100/len(listings_df)"
   ]
  },
  {
   "cell_type": "code",
   "execution_count": 9,
   "metadata": {},
   "outputs": [
    {
     "data": {
      "text/plain": [
       "Index(['host_neighbourhood', 'neighbourhood_group_cleansed', 'bathrooms',\n",
       "       'calendar_updated', 'license'],\n",
       "      dtype='object')"
      ]
     },
     "execution_count": 9,
     "metadata": {},
     "output_type": "execute_result"
    }
   ],
   "source": [
    "# List columns with 75% missing values in listings_df\n",
    "listings_df.columns[listings_df.isnull().mean()>0.70]"
   ]
  },
  {
   "cell_type": "code",
   "execution_count": 10,
   "metadata": {},
   "outputs": [
    {
     "data": {
      "text/plain": [
       "[]                                                                                                                                                                                                                                                                                                                                                                                                                                                                                                                                          57\n",
       "[\"Cable TV\", \"Air conditioning\", \"Essentials\", \"TV\", \"Wifi\"]                                                                                                                                                                                                                                                                                                                                                                                                                                                                                48\n",
       "[\"Cable TV\", \"Air conditioning\", \"Essentials\", \"Breakfast\", \"TV\", \"Wifi\"]                                                                                                                                                                                                                                                                                                                                                                                                                                                                   43\n",
       "[\"Hair dryer\", \"Essentials\", \"Free parking on premises\", \"Shampoo\", \"Iron\", \"Fire extinguisher\", \"Laptop-friendly workspace\", \"Wifi\", \"TV\", \"First aid kit\"]                                                                                                                                                                                                                                                                                                                                                                                34\n",
       "[\"Cable TV\", \"Hair dryer\", \"Essentials\", \"Free parking on premises\", \"Breakfast\", \"TV\", \"Wifi\", \"Pool\"]                                                                                                                                                                                                                                                                                                                                                                                                                                     27\n",
       "                                                                                                                                                                                                                                                                                                                                                                                                                                                                                                                                            ..\n",
       "[\"Private entrance\", \"Bathtub\", \"Oven\", \"Essentials\", \"Free parking on premises\", \"Garden or backyard\", \"Refrigerator\", \"TV\", \"Wifi\", \"Patio or balcony\", \"Cable TV\", \"BBQ grill\", \"Dishes and silverware\", \"Hot water\", \"Washer\", \"Shampoo\", \"Laptop-friendly workspace\", \"Bed linens\", \"Microwave\", \"Stove\", \"Kitchen\", \"Building staff\", \"Dryer\", \"Pool\"]                                                                                                                                                                                 1\n",
       "[\"Hair dryer\", \"Oven\", \"Essentials\", \"Free parking on premises\", \"Single level home\", \"Refrigerator\", \"Luggage dropoff allowed\", \"Smoke alarm\", \"TV\", \"Wifi\", \"Dishes and silverware\", \"Extra pillows and blankets\", \"Hot water\", \"Washer\", \"Shampoo\", \"Iron\", \"Laptop-friendly workspace\", \"Bed linens\", \"Microwave\", \"Elevator\", \"Hangers\", \"Stove\", \"Cooking basics\", \"Kitchen\", \"Building staff\", \"Long term stays allowed\"]                                                                                                             1\n",
       "[\"Free street parking\", \"Private entrance\", \"Hot water\", \"Hair dryer\", \"Extra pillows and blankets\", \"Essentials\", \"Garden or backyard\", \"Iron\", \"Refrigerator\", \"Lock on bedroom door\", \"Laptop-friendly workspace\", \"Wifi\", \"TV\", \"Hangers\", \"Heating\", \"Bed linens\", \"Host greets you\", \"Patio or balcony\"]                                                                                                                                                                                                                               1\n",
       "[\"Air conditioning\", \"Washer\", \"Essentials\", \"Free parking on premises\", \"Shampoo\", \"Indoor fireplace\", \"Fire extinguisher\", \"TV\", \"Wifi\", \"Kitchen\", \"Heating\", \"Dryer\", \"Pool\"]                                                                                                                                                                                                                                                                                                                                                            1\n",
       "[\"Private entrance\", \"Bathtub\", \"Hair dryer\", \"Oven\", \"Essentials\", \"Free parking on premises\", \"Refrigerator\", \"Luggage dropoff allowed\", \"Smoke alarm\", \"TV\", \"Wifi\", \"First aid kit\", \"Cable TV\", \"Fire extinguisher\", \"Dishes and silverware\", \"Beach essentials\", \"Extra pillows and blankets\", \"Carbon monoxide alarm\", \"Hot water\", \"Shampoo\", \"Iron\", \"Laptop-friendly workspace\", \"Bed linens\", \"Microwave\", \"Hangers\", \"Stove\", \"Cooking basics\", \"Lockbox\", \"Cleaning before checkout\", \"Kitchen\", \"Long term stays allowed\"]     1\n",
       "Name: amenities, Length: 17484, dtype: int64"
      ]
     },
     "execution_count": 10,
     "metadata": {},
     "output_type": "execute_result"
    }
   ],
   "source": [
    "# Provide a pandas series of the counts for each amenities in listings_df\n",
    "amenities_vals = listings_df.amenities.value_counts() \n",
    "# assure this looks right\n",
    "amenities_vals "
   ]
  },
  {
   "cell_type": "markdown",
   "metadata": {},
   "source": [
    "<a id='preparation'></a>\n",
    "## Data Preparation"
   ]
  },
  {
   "cell_type": "code",
   "execution_count": 11,
   "metadata": {},
   "outputs": [
    {
     "data": {
      "text/plain": [
       "listing_id                int64\n",
       "id                        int64\n",
       "date             datetime64[ns]\n",
       "reviewer_id               int64\n",
       "reviewer_name            object\n",
       "comments                 object\n",
       "dtype: object"
      ]
     },
     "execution_count": 11,
     "metadata": {},
     "output_type": "execute_result"
    },
    {
     "data": {
      "text/html": [
       "<div>\n",
       "<style scoped>\n",
       "    .dataframe tbody tr th:only-of-type {\n",
       "        vertical-align: middle;\n",
       "    }\n",
       "\n",
       "    .dataframe tbody tr th {\n",
       "        vertical-align: top;\n",
       "    }\n",
       "\n",
       "    .dataframe thead th {\n",
       "        text-align: right;\n",
       "    }\n",
       "</style>\n",
       "<table border=\"1\" class=\"dataframe\">\n",
       "  <thead>\n",
       "    <tr style=\"text-align: right;\">\n",
       "      <th></th>\n",
       "      <th>listing_id</th>\n",
       "      <th>id</th>\n",
       "      <th>date</th>\n",
       "      <th>reviewer_id</th>\n",
       "      <th>reviewer_name</th>\n",
       "      <th>comments</th>\n",
       "    </tr>\n",
       "  </thead>\n",
       "  <tbody>\n",
       "    <tr>\n",
       "      <th>0</th>\n",
       "      <td>3191</td>\n",
       "      <td>4888238</td>\n",
       "      <td>2013-05-31</td>\n",
       "      <td>5737473</td>\n",
       "      <td>Kathleen</td>\n",
       "      <td>Great home away from home! Bridgette and Marth...</td>\n",
       "    </tr>\n",
       "    <tr>\n",
       "      <th>1</th>\n",
       "      <td>3191</td>\n",
       "      <td>9128602</td>\n",
       "      <td>2013-12-09</td>\n",
       "      <td>8170322</td>\n",
       "      <td>Anita</td>\n",
       "      <td>Das Cottage liegt ruhig und sicher.  Wir haben...</td>\n",
       "    </tr>\n",
       "    <tr>\n",
       "      <th>2</th>\n",
       "      <td>3191</td>\n",
       "      <td>9924130</td>\n",
       "      <td>2014-01-20</td>\n",
       "      <td>4039279</td>\n",
       "      <td>Zacki</td>\n",
       "      <td>This cottage was a great base from which to ex...</td>\n",
       "    </tr>\n",
       "    <tr>\n",
       "      <th>3</th>\n",
       "      <td>3191</td>\n",
       "      <td>16659537</td>\n",
       "      <td>2014-07-31</td>\n",
       "      <td>9729939</td>\n",
       "      <td>Doug</td>\n",
       "      <td>I had a great stay.  All my needs were well ex...</td>\n",
       "    </tr>\n",
       "    <tr>\n",
       "      <th>4</th>\n",
       "      <td>3191</td>\n",
       "      <td>23247470</td>\n",
       "      <td>2014-11-26</td>\n",
       "      <td>9681619</td>\n",
       "      <td>Christopher</td>\n",
       "      <td>Excellent host. She provided everything we cou...</td>\n",
       "    </tr>\n",
       "  </tbody>\n",
       "</table>\n",
       "</div>"
      ],
      "text/plain": [
       "   listing_id        id       date  reviewer_id reviewer_name  \\\n",
       "0        3191   4888238 2013-05-31      5737473      Kathleen   \n",
       "1        3191   9128602 2013-12-09      8170322         Anita   \n",
       "2        3191   9924130 2014-01-20      4039279         Zacki   \n",
       "3        3191  16659537 2014-07-31      9729939          Doug   \n",
       "4        3191  23247470 2014-11-26      9681619   Christopher   \n",
       "\n",
       "                                            comments  \n",
       "0  Great home away from home! Bridgette and Marth...  \n",
       "1  Das Cottage liegt ruhig und sicher.  Wir haben...  \n",
       "2  This cottage was a great base from which to ex...  \n",
       "3  I had a great stay.  All my needs were well ex...  \n",
       "4  Excellent host. She provided everything we cou...  "
      ]
     },
     "execution_count": 11,
     "metadata": {},
     "output_type": "execute_result"
    }
   ],
   "source": [
    "# Convert date in reviews_df to datetime\n",
    "reviews_df['date'] = pd.to_datetime(reviews_df['date'], format='%Y-%m-%d')\n",
    "reviews_df.dtypes\n",
    "reviews_df.head()"
   ]
  },
  {
   "cell_type": "code",
   "execution_count": 12,
   "metadata": {},
   "outputs": [],
   "source": [
    "# Fill null values with zero in reviews_per_month,host_name column\n",
    "listings_df['reviews_per_month'].fillna(value=0, inplace=True)\n",
    "listings_df['host_name'].fillna(value=0, inplace=True)"
   ]
  },
  {
   "cell_type": "code",
   "execution_count": 16,
   "metadata": {},
   "outputs": [],
   "source": [
    "# Drop two null rows in host_is_superhost column\n",
    "listings_df.dropna(subset=['host_is_superhost'],inplace =True)"
   ]
  },
  {
   "cell_type": "code",
   "execution_count": 19,
   "metadata": {},
   "outputs": [
    {
     "data": {
      "text/plain": [
       "0           551.0\n",
       "1          2115.0\n",
       "2          1152.0\n",
       "3           600.0\n",
       "4        125000.0\n",
       "           ...   \n",
       "18718       453.0\n",
       "18719      3050.0\n",
       "18720       560.0\n",
       "18721       600.0\n",
       "18722      3000.0\n",
       "Name: price, Length: 18721, dtype: float64"
      ]
     },
     "execution_count": 19,
     "metadata": {},
     "output_type": "execute_result"
    }
   ],
   "source": [
    "# Remove $ and , from price df\n",
    "listings_df['price'] = listings_df['price'].str.replace('$', '')\n",
    "listings_df['price'] = listings_df['price'].str.replace(',', '')\n",
    "listings_df[\"price\"] = listings_df.price.astype(float)\n",
    "listings_df['price']"
   ]
  },
  {
   "cell_type": "markdown",
   "metadata": {},
   "source": [
    "<a id='exploration'></a>\n",
    "## Data Exploration"
   ]
  },
  {
   "cell_type": "markdown",
   "metadata": {},
   "source": [
    "###### 1) What are the various room types listed on Airbnb in Capetown."
   ]
  },
  {
   "cell_type": "code",
   "execution_count": 22,
   "metadata": {},
   "outputs": [
    {
     "data": {
      "image/png": "[encoded data removed]",
      "text/plain": [
       "<Figure size 720x720 with 1 Axes>"
      ]
     },
     "metadata": {
      "needs_background": "light"
     },
     "output_type": "display_data"
    }
   ],
   "source": [
    "# Room types in airbnb capetown\n",
    "sns.countplot(listings_df['room_type'], palette=\"plasma\");\n",
    "fig = plt.gcf();\n",
    "fig.set_size_inches(10,10);\n",
    "plt.title('Room Types in Airbnb Capetown');"
   ]
  },
  {
   "cell_type": "markdown",
   "metadata": {},
   "source": [
    "###### 2) What are the most popular property types in the city."
   ]
  },
  {
   "cell_type": "code",
   "execution_count": 23,
   "metadata": {},
   "outputs": [
    {
     "data": {
      "image/png": "[encoded data removed]",
      "text/plain": [
       "<Figure size 864x576 with 1 Axes>"
      ]
     },
     "metadata": {
      "needs_background": "light"
     },
     "output_type": "display_data"
    }
   ],
   "source": [
    "# Popular Property types in Capetown\n",
    "data = listings_df.property_type.value_counts()[:10]\n",
    "plt.figure(figsize=(12, 8))\n",
    "x = list(data.index)\n",
    "y = list(data.values)\n",
    "x.reverse()\n",
    "y.reverse()\n",
    "\n",
    "plt.title(\"Most Popular Property types in Cape Town\")\n",
    "plt.ylabel(\"Property type\")\n",
    "plt.xlabel(\"Counts\")\n",
    "\n",
    "plt.barh(x, y);"
   ]
  },
  {
   "cell_type": "markdown",
   "metadata": {},
   "source": [
    "###### 3) What is the average price for the various room types."
   ]
  },
  {
   "cell_type": "code",
   "execution_count": 24,
   "metadata": {},
   "outputs": [
    {
     "data": {
      "text/html": [
       "<div>\n",
       "<style scoped>\n",
       "    .dataframe tbody tr th:only-of-type {\n",
       "        vertical-align: middle;\n",
       "    }\n",
       "\n",
       "    .dataframe tbody tr th {\n",
       "        vertical-align: top;\n",
       "    }\n",
       "\n",
       "    .dataframe thead th {\n",
       "        text-align: right;\n",
       "    }\n",
       "</style>\n",
       "<table border=\"1\" class=\"dataframe\">\n",
       "  <thead>\n",
       "    <tr style=\"text-align: right;\">\n",
       "      <th></th>\n",
       "      <th>room_type</th>\n",
       "      <th>price</th>\n",
       "    </tr>\n",
       "  </thead>\n",
       "  <tbody>\n",
       "    <tr>\n",
       "      <th>0</th>\n",
       "      <td>Hotel room</td>\n",
       "      <td>2923.197640</td>\n",
       "    </tr>\n",
       "    <tr>\n",
       "      <th>1</th>\n",
       "      <td>Entire home/apt</td>\n",
       "      <td>2690.262275</td>\n",
       "    </tr>\n",
       "    <tr>\n",
       "      <th>2</th>\n",
       "      <td>Private room</td>\n",
       "      <td>1184.946917</td>\n",
       "    </tr>\n",
       "    <tr>\n",
       "      <th>3</th>\n",
       "      <td>Shared room</td>\n",
       "      <td>507.404762</td>\n",
       "    </tr>\n",
       "  </tbody>\n",
       "</table>\n",
       "</div>"
      ],
      "text/plain": [
       "         room_type        price\n",
       "0       Hotel room  2923.197640\n",
       "1  Entire home/apt  2690.262275\n",
       "2     Private room  1184.946917\n",
       "3      Shared room   507.404762"
      ]
     },
     "execution_count": 24,
     "metadata": {},
     "output_type": "execute_result"
    }
   ],
   "source": [
    "# Average price of rooms\n",
    "avg_price = listings_df.groupby(\"room_type\")[\"price\"].mean().sort_values(ascending = False).reset_index()\n",
    "avg_price"
   ]
  },
  {
   "cell_type": "code",
   "execution_count": 25,
   "metadata": {},
   "outputs": [
    {
     "data": {
      "text/plain": [
       "[Text(0, 0, 'Hotel room'),\n",
       " Text(0, 0, 'Entire home/apt'),\n",
       " Text(0, 0, 'Private room'),\n",
       " Text(0, 0, 'Shared room')]"
      ]
     },
     "execution_count": 25,
     "metadata": {},
     "output_type": "execute_result"
    },
    {
     "data": {
      "image/png": "[encoded data removed]",
      "text/plain": [
       "<Figure size 432x288 with 1 Axes>"
      ]
     },
     "metadata": {
      "needs_background": "light"
     },
     "output_type": "display_data"
    }
   ],
   "source": [
    "ax = sns.barplot(x=\"room_type\", y=\"price\", data=avg_price)\n",
    "ax.set_xticklabels(ax.get_xticklabels(), rotation=45)"
   ]
  },
  {
   "cell_type": "markdown",
   "metadata": {},
   "source": [
    "##### 4) Availability of listings in a year.."
   ]
  },
  {
   "cell_type": "code",
   "execution_count": 27,
   "metadata": {},
   "outputs": [
    {
     "data": {
      "text/plain": [
       "<Figure size 864x576 with 0 Axes>"
      ]
     },
     "execution_count": 27,
     "metadata": {},
     "output_type": "execute_result"
    },
    {
     "data": {
      "text/plain": [
       "<matplotlib.collections.PathCollection at 0x26d338d7a08>"
      ]
     },
     "execution_count": 27,
     "metadata": {},
     "output_type": "execute_result"
    },
    {
     "data": {
      "image/png": "[encoded data removed]",
      "text/plain": [
       "<Figure size 864x576 with 2 Axes>"
      ]
     },
     "metadata": {
      "needs_background": "light"
     },
     "output_type": "display_data"
    }
   ],
   "source": [
    "# Plot showing listings availability in a year\n",
    "plt.figure(figsize=(12, 8))\n",
    "plt.scatter(listings_df.longitude, listings_df.latitude, c=listings_df.availability_365, cmap='summer', edgecolor='black', linewidth=1, alpha=0.75);\n",
    "\n",
    "cbar = plt.colorbar()\n",
    "cbar.set_label('availability_365')"
   ]
  },
  {
   "cell_type": "code",
   "execution_count": 21,
   "metadata": {},
   "outputs": [
    {
     "data": {
      "text/plain": [
       "25.639656001281985"
      ]
     },
     "execution_count": 21,
     "metadata": {},
     "output_type": "execute_result"
    }
   ],
   "source": [
    "# Proportion of superhosts in capetown\n",
    "dummy_cols_df = pd.get_dummies(listings_df['host_is_superhost'])\n",
    "dummy_cols_df\n",
    "dummy_cols_df['t'].mean()*100"
   ]
  },
  {
   "cell_type": "code",
   "execution_count": null,
   "metadata": {},
   "outputs": [],
   "source": []
  }
 ],
 "metadata": {
  "kernelspec": {
   "display_name": "Python 3",
   "language": "python",
   "name": "python3"
  },
  "language_info": {
   "codemirror_mode": {
    "name": "ipython",
    "version": 3
   },
   "file_extension": ".py",
   "mimetype": "text/x-python",
   "name": "python",
   "nbconvert_exporter": "python",
   "pygments_lexer": "ipython3",
   "version": "3.7.7"
  }
 },
 "nbformat": 4,
 "nbformat_minor": 4
}
